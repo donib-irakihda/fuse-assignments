{
  "cells": [
    {
      "cell_type": "markdown",
      "metadata": {
        "id": "view-in-github",
        "colab_type": "text"
      },
      "source": [
        "<a href=\"https://colab.research.google.com/github/donib-irakihda/fuse-assignments/blob/main/RegularizationAssignment_Student.ipynb\" target=\"_parent\"><img src=\"https://colab.research.google.com/assets/colab-badge.svg\" alt=\"Open In Colab\"/></a>"
      ]
    },
    {
      "cell_type": "markdown",
      "metadata": {
        "id": "OP4RKcmxbYP2"
      },
      "source": [
        "# Used Motorcycle Price Prediction\n",
        "\n",
        "In this assignment you will implement a number of linear regression models to predict the price of a used motorcycle given its different features and perform necessary evaluations to check the model performance.\n",
        "\n",
        "<b><div style=\"text-align: right\">[TOTAL POINTS: 15]</div></b>\n",
        "\n",
        "### Learning Objective\n",
        "\n",
        "* Test the assumptions of linear regression and transform the dataset accordingly if necessary.\n",
        "\n",
        "* Use the sklearn library to implement linear reression, ridge regression and lasso and evaluate their and calculate their $R^2$ score. \n",
        "\n",
        "* Implement and use the adjusted $R^2$ score to evaluate the performance of models with varying set of features.\n",
        "\n",
        "* Implement the Ordinary Least Squares and Gradient descent method from scratch to find the parameters of Linear Regression.\n",
        "\n",
        "\n",
        "\n",
        "\n"
      ]
    },
    {
      "cell_type": "markdown",
      "metadata": {
        "id": "kH4QfoxuB_tR"
      },
      "source": [
        "## Imports"
      ]
    },
    {
      "cell_type": "code",
      "execution_count": null,
      "metadata": {
        "id": "pkKSO1_5sTfJ"
      },
      "outputs": [],
      "source": [
        "import numpy as np\n",
        "import pandas as pd\n",
        "import matplotlib.pyplot as plt\n",
        "from sklearn.datasets import make_regression\n",
        "from sklearn.model_selection import train_test_split\n",
        "from sklearn.linear_model import LinearRegression\n",
        "from sklearn.metrics import r2_score\n",
        "import itertools\n",
        "\n",
        "np.random.seed(42)"
      ]
    },
    {
      "cell_type": "markdown",
      "metadata": {
        "id": "e9sDwvTjWuNR"
      },
      "source": [
        "## Dataset Description\n",
        "\n",
        "The dataset contains 500 samples of used motorcycle with some of their features and their resale value. The problem here is to predict the resale value of the motorcycle using its features. \n",
        "\n",
        "**Number of Instances:** 500\n",
        "\n",
        "**Number of Attributes:** 5 (Input Features) + 1 (Target)\n",
        "\n"
      ]
    },
    {
      "cell_type": "markdown",
      "metadata": {
        "id": "t398TZYeZqFy"
      },
      "source": [
        "### Attribute Information\n",
        "\n",
        "#### **Input Features**\n",
        "All the feature values have already been scaled to a similar range so that you won't have to apply feature scaling.\n",
        "\n",
        "- **Lot No.:** Lot number of the motorcycle. Higher Lot number signifies newer motorcycle.\n",
        "\n",
        "- **Engine Size:** Size of the eingine of the motorcycle.\n",
        "\n",
        "- **Mileage:** Measure of how long the motorcycle runs for a litre of gas.\n",
        "\n",
        "- **KM Run:** Kilometers run on the motorcycle.\n",
        "\n",
        "- **Max Power:** Maximum power output of the motorcycle.\n",
        "\n",
        "\\\n",
        "\n",
        "#### **Target Variable**\n",
        "\n",
        "- **Price:** Resale value of the motorcycle in thousands. Our target variable.\n"
      ]
    },
    {
      "cell_type": "code",
      "execution_count": null,
      "metadata": {
        "colab": {
          "base_uri": "https://localhost:8080/",
          "height": 206
        },
        "id": "ypY8Uj_BrMGe",
        "outputId": "645b22b9-090d-48ee-a2f6-4cc45e65da3c"
      },
      "outputs": [
        {
          "data": {
            "text/html": [
              "\n",
              "  <div id=\"df-6cd57693-0883-4c1a-a1ed-2c806e4b5729\">\n",
              "    <div class=\"colab-df-container\">\n",
              "      <div>\n",
              "<style scoped>\n",
              "    .dataframe tbody tr th:only-of-type {\n",
              "        vertical-align: middle;\n",
              "    }\n",
              "\n",
              "    .dataframe tbody tr th {\n",
              "        vertical-align: top;\n",
              "    }\n",
              "\n",
              "    .dataframe thead th {\n",
              "        text-align: right;\n",
              "    }\n",
              "</style>\n",
              "<table border=\"1\" class=\"dataframe\">\n",
              "  <thead>\n",
              "    <tr style=\"text-align: right;\">\n",
              "      <th></th>\n",
              "      <th>Lot No.</th>\n",
              "      <th>Engine Size</th>\n",
              "      <th>Mileage</th>\n",
              "      <th>KM Run</th>\n",
              "      <th>Max Power</th>\n",
              "      <th>Price</th>\n",
              "    </tr>\n",
              "  </thead>\n",
              "  <tbody>\n",
              "    <tr>\n",
              "      <th>0</th>\n",
              "      <td>0.056646</td>\n",
              "      <td>-1.043517</td>\n",
              "      <td>0.797331</td>\n",
              "      <td>-0.222694</td>\n",
              "      <td>-1.863743</td>\n",
              "      <td>45.026610</td>\n",
              "    </tr>\n",
              "    <tr>\n",
              "      <th>1</th>\n",
              "      <td>0.238778</td>\n",
              "      <td>-0.417864</td>\n",
              "      <td>0.000508</td>\n",
              "      <td>0.866960</td>\n",
              "      <td>-0.312565</td>\n",
              "      <td>39.300833</td>\n",
              "    </tr>\n",
              "    <tr>\n",
              "      <th>2</th>\n",
              "      <td>-1.492397</td>\n",
              "      <td>0.936633</td>\n",
              "      <td>0.785432</td>\n",
              "      <td>-0.091035</td>\n",
              "      <td>2.423967</td>\n",
              "      <td>58.923446</td>\n",
              "    </tr>\n",
              "    <tr>\n",
              "      <th>3</th>\n",
              "      <td>1.132288</td>\n",
              "      <td>-0.583562</td>\n",
              "      <td>0.790543</td>\n",
              "      <td>1.262054</td>\n",
              "      <td>-1.121522</td>\n",
              "      <td>52.101286</td>\n",
              "    </tr>\n",
              "    <tr>\n",
              "      <th>4</th>\n",
              "      <td>1.318906</td>\n",
              "      <td>2.024895</td>\n",
              "      <td>0.996975</td>\n",
              "      <td>1.427730</td>\n",
              "      <td>4.410519</td>\n",
              "      <td>79.322492</td>\n",
              "    </tr>\n",
              "  </tbody>\n",
              "</table>\n",
              "</div>\n",
              "      <button class=\"colab-df-convert\" onclick=\"convertToInteractive('df-6cd57693-0883-4c1a-a1ed-2c806e4b5729')\"\n",
              "              title=\"Convert this dataframe to an interactive table.\"\n",
              "              style=\"display:none;\">\n",
              "        \n",
              "  <svg xmlns=\"http://www.w3.org/2000/svg\" height=\"24px\"viewBox=\"0 0 24 24\"\n",
              "       width=\"24px\">\n",
              "    <path d=\"M0 0h24v24H0V0z\" fill=\"none\"/>\n",
              "    <path d=\"M18.56 5.44l.94 2.06.94-2.06 2.06-.94-2.06-.94-.94-2.06-.94 2.06-2.06.94zm-11 1L8.5 8.5l.94-2.06 2.06-.94-2.06-.94L8.5 2.5l-.94 2.06-2.06.94zm10 10l.94 2.06.94-2.06 2.06-.94-2.06-.94-.94-2.06-.94 2.06-2.06.94z\"/><path d=\"M17.41 7.96l-1.37-1.37c-.4-.4-.92-.59-1.43-.59-.52 0-1.04.2-1.43.59L10.3 9.45l-7.72 7.72c-.78.78-.78 2.05 0 2.83L4 21.41c.39.39.9.59 1.41.59.51 0 1.02-.2 1.41-.59l7.78-7.78 2.81-2.81c.8-.78.8-2.07 0-2.86zM5.41 20L4 18.59l7.72-7.72 1.47 1.35L5.41 20z\"/>\n",
              "  </svg>\n",
              "      </button>\n",
              "      \n",
              "  <style>\n",
              "    .colab-df-container {\n",
              "      display:flex;\n",
              "      flex-wrap:wrap;\n",
              "      gap: 12px;\n",
              "    }\n",
              "\n",
              "    .colab-df-convert {\n",
              "      background-color: #E8F0FE;\n",
              "      border: none;\n",
              "      border-radius: 50%;\n",
              "      cursor: pointer;\n",
              "      display: none;\n",
              "      fill: #1967D2;\n",
              "      height: 32px;\n",
              "      padding: 0 0 0 0;\n",
              "      width: 32px;\n",
              "    }\n",
              "\n",
              "    .colab-df-convert:hover {\n",
              "      background-color: #E2EBFA;\n",
              "      box-shadow: 0px 1px 2px rgba(60, 64, 67, 0.3), 0px 1px 3px 1px rgba(60, 64, 67, 0.15);\n",
              "      fill: #174EA6;\n",
              "    }\n",
              "\n",
              "    [theme=dark] .colab-df-convert {\n",
              "      background-color: #3B4455;\n",
              "      fill: #D2E3FC;\n",
              "    }\n",
              "\n",
              "    [theme=dark] .colab-df-convert:hover {\n",
              "      background-color: #434B5C;\n",
              "      box-shadow: 0px 1px 3px 1px rgba(0, 0, 0, 0.15);\n",
              "      filter: drop-shadow(0px 1px 2px rgba(0, 0, 0, 0.3));\n",
              "      fill: #FFFFFF;\n",
              "    }\n",
              "  </style>\n",
              "\n",
              "      <script>\n",
              "        const buttonEl =\n",
              "          document.querySelector('#df-6cd57693-0883-4c1a-a1ed-2c806e4b5729 button.colab-df-convert');\n",
              "        buttonEl.style.display =\n",
              "          google.colab.kernel.accessAllowed ? 'block' : 'none';\n",
              "\n",
              "        async function convertToInteractive(key) {\n",
              "          const element = document.querySelector('#df-6cd57693-0883-4c1a-a1ed-2c806e4b5729');\n",
              "          const dataTable =\n",
              "            await google.colab.kernel.invokeFunction('convertToInteractive',\n",
              "                                                     [key], {});\n",
              "          if (!dataTable) return;\n",
              "\n",
              "          const docLinkHtml = 'Like what you see? Visit the ' +\n",
              "            '<a target=\"_blank\" href=https://colab.research.google.com/notebooks/data_table.ipynb>data table notebook</a>'\n",
              "            + ' to learn more about interactive tables.';\n",
              "          element.innerHTML = '';\n",
              "          dataTable['output_type'] = 'display_data';\n",
              "          await google.colab.output.renderOutput(dataTable, element);\n",
              "          const docLink = document.createElement('div');\n",
              "          docLink.innerHTML = docLinkHtml;\n",
              "          element.appendChild(docLink);\n",
              "        }\n",
              "      </script>\n",
              "    </div>\n",
              "  </div>\n",
              "  "
            ],
            "text/plain": [
              "    Lot No.  Engine Size   Mileage    KM Run  Max Power      Price\n",
              "0  0.056646    -1.043517  0.797331 -0.222694  -1.863743  45.026610\n",
              "1  0.238778    -0.417864  0.000508  0.866960  -0.312565  39.300833\n",
              "2 -1.492397     0.936633  0.785432 -0.091035   2.423967  58.923446\n",
              "3  1.132288    -0.583562  0.790543  1.262054  -1.121522  52.101286\n",
              "4  1.318906     2.024895  0.996975  1.427730   4.410519  79.322492"
            ]
          },
          "execution_count": 2,
          "metadata": {},
          "output_type": "execute_result"
        }
      ],
      "source": [
        "dataset = pd.read_csv('https://drive.google.com/uc?id=1zeE911284qKNF1q2mgoIgOa4UXYC9N2i')\n",
        "X = dataset.drop('Price', axis=1).values\n",
        "y = dataset['Price'].values.reshape(X.shape[0],1)\n",
        "dataset.head()"
      ]
    },
    {
      "cell_type": "markdown",
      "metadata": {
        "id": "qSdqIHE7NXOL"
      },
      "source": [
        "Let's first calculate the residuals by quickly fitting the linear regression on the whole data using sklearn."
      ]
    },
    {
      "cell_type": "code",
      "execution_count": null,
      "metadata": {
        "id": "x2LkJ1D795J8"
      },
      "outputs": [],
      "source": [
        "## RUN THIS CELL\n",
        "from sklearn.linear_model import LinearRegression\n",
        "model = LinearRegression().fit(X, y)\n",
        "residuals = model.predict(X) - y"
      ]
    },
    {
      "cell_type": "markdown",
      "metadata": {
        "id": "Imey1oOsxKAr"
      },
      "source": [
        "## Part 1: Assumptions"
      ]
    },
    {
      "cell_type": "markdown",
      "metadata": {
        "id": "9UE1xm7axKAs"
      },
      "source": [
        "### Exercise 1.1: Check for multicollinearity\n",
        "\n",
        "\n",
        "**<div style=\"text-align: right\"> [POINTS: 1]</div>**\n",
        "\n",
        "\n",
        "**Task:**\n",
        "\n",
        "* Import the [`variance_inflation_factor`]() from `statsmodels` library.\n",
        "\n",
        "* Calculate the VIF score for each of the features using the `variance_inflation_factor` function."
      ]
    },
    {
      "cell_type": "code",
      "execution_count": null,
      "metadata": {
        "colab": {
          "base_uri": "https://localhost:8080/"
        },
        "id": "Uwu3IwwHxKAt",
        "outputId": "4b01ecfc-b7f9-4755-8aee-67d1ff495a19"
      },
      "outputs": [
        {
          "name": "stderr",
          "output_type": "stream",
          "text": [
            "/usr/local/lib/python3.7/dist-packages/statsmodels/tools/_testing.py:19: FutureWarning: pandas.util.testing is deprecated. Use the functions in the public API at pandas.testing instead.\n",
            "  import pandas.util.testing as tm\n"
          ]
        },
        {
          "name": "stdout",
          "output_type": "stream",
          "text": [
            "[1.0087076423300199, 12.616827778300836, 1.0089247045274492, 1.010388194748689, 12.603910494981058]\n"
          ]
        }
      ],
      "source": [
        "### Ex-1-Task-1\n",
        "VIF = None\n",
        "\n",
        "### BEGIN SOLUTION\n",
        "# your code here\n",
        "from statsmodels.stats.outliers_influence import variance_inflation_factor\n",
        "VIF = [variance_inflation_factor(X, i) for i in range(X.shape[1])]\n",
        "# raise NotImplementedError\n",
        "### END SOLUTION\n",
        "\n",
        "print(VIF)"
      ]
    },
    {
      "cell_type": "code",
      "execution_count": null,
      "metadata": {
        "id": "75-785tsdqaG"
      },
      "outputs": [],
      "source": [
        "assert VIF is not None\n",
        "assert len(VIF) == X.shape[1]"
      ]
    },
    {
      "cell_type": "markdown",
      "metadata": {
        "id": "z-qrRwrekDxf"
      },
      "source": [
        "**Removing Multicollinearity**"
      ]
    },
    {
      "cell_type": "code",
      "execution_count": null,
      "metadata": {
        "id": "djB5bxT136bQ"
      },
      "outputs": [],
      "source": [
        "### RUN THIS CELL\n",
        "X = np.delete(X, 4, 1)"
      ]
    },
    {
      "cell_type": "markdown",
      "metadata": {
        "id": "FjFjcqpdxKAx"
      },
      "source": [
        "### Exercise 1.2: Check for Homoscedasticity\n",
        "\n",
        "**<div style=\"text-align: right\"> [POINTS: 1]</div>**\n",
        "\n",
        "**Task:**\n",
        "- Assign the appropriate value for the `x_axis` and `y_axis` to plot the scatterplot of the samples (x-axis) and their corresponding residuals (y-axis)."
      ]
    },
    {
      "cell_type": "code",
      "execution_count": 8,
      "metadata": {
        "colab": {
          "base_uri": "https://localhost:8080/",
          "height": 295
        },
        "id": "bD9vlL8S9BFO",
        "outputId": "49849930-11e5-43c5-a5db-f8f526f32e5b"
      },
      "outputs": [
        {
          "output_type": "display_data",
          "data": {
            "text/plain": [
              "<Figure size 432x288 with 1 Axes>"
            ],
            "image/png": "[encoded data removed]"
          },
          "metadata": {
            "needs_background": "light"
          }
        }
      ],
      "source": [
        "### Ex-1-Task-2\n",
        "x_axis = None\n",
        "y_axis = None\n",
        "\n",
        "### BEGIN SOLUTION\n",
        "# your code here\n",
        "model = LinearRegression().fit(X, y)\n",
        "x_axis = model.predict(X)\n",
        "y_axis = model.predict(X) - y\n",
        "# raise NotImplementedError\n",
        "### END SOLUTION\n",
        "\n",
        "plt.scatter(x=x_axis, y=y_axis)\n",
        "plt.title('Variance of Residuals')\n",
        "plt.xlabel(\"Fitted Value\")\n",
        "plt.ylabel(\"Residual\")\n",
        "plt.show()"
      ]
    },
    {
      "cell_type": "code",
      "execution_count": 9,
      "metadata": {
        "colab": {
          "base_uri": "https://localhost:8080/",
          "height": 186
        },
        "id": "dm8OUOB9-MBQ",
        "outputId": "e80a4862-e9b0-4fde-fc1f-26a6863c0d08"
      },
      "outputs": [
        {
          "output_type": "error",
          "ename": "AssertionError",
          "evalue": "ignored",
          "traceback": [
            "\u001b[0;31m---------------------------------------------------------------------------\u001b[0m",
            "\u001b[0;31mAssertionError\u001b[0m                            Traceback (most recent call last)",
            "\u001b[0;32m<ipython-input-9-58f7a0c804b3>\u001b[0m in \u001b[0;36m<module>\u001b[0;34m()\u001b[0m\n\u001b[0;32m----> 1\u001b[0;31m \u001b[0;32massert\u001b[0m \u001b[0mmax\u001b[0m\u001b[0;34m(\u001b[0m\u001b[0mx_axis\u001b[0m\u001b[0;34m)\u001b[0m \u001b[0;34m==\u001b[0m \u001b[0;36m499\u001b[0m\u001b[0;34m\u001b[0m\u001b[0;34m\u001b[0m\u001b[0m\n\u001b[0m\u001b[1;32m      2\u001b[0m \u001b[0;32massert\u001b[0m \u001b[0mlen\u001b[0m\u001b[0;34m(\u001b[0m\u001b[0my_axis\u001b[0m\u001b[0;34m)\u001b[0m \u001b[0;34m==\u001b[0m \u001b[0;36m500\u001b[0m\u001b[0;34m\u001b[0m\u001b[0;34m\u001b[0m\u001b[0m\n",
            "\u001b[0;31mAssertionError\u001b[0m: "
          ]
        }
      ],
      "source": [
        "assert max(x_axis) == 499\n",
        "assert len(y_axis) == 500"
      ]
    },
    {
      "cell_type": "markdown",
      "metadata": {
        "id": "M3fV0J4M-xEp"
      },
      "source": [
        "### Exercise 1.3: Check for Auto-correlation\n",
        "\n",
        "**<div style=\"text-align: right\"> [POINTS: 1]</div>**\n",
        "\n",
        "\n",
        "**Task:**\n",
        "\n",
        "* Import the [`durbin_watson`]() from `statsmodels` library.\n",
        "\n",
        "* Calculate the `durbin_watson_score` of the residuals using the `durbin_watson` function."
      ]
    },
    {
      "cell_type": "code",
      "execution_count": 10,
      "metadata": {
        "colab": {
          "base_uri": "https://localhost:8080/"
        },
        "id": "7ubnbDlF-14b",
        "outputId": "a65b28c6-7d12-4fa1-e96e-83aca07842d6"
      },
      "outputs": [
        {
          "output_type": "stream",
          "name": "stdout",
          "text": [
            "[2.07164064]\n"
          ]
        }
      ],
      "source": [
        "### Ex-1-Task-3\n",
        "\n",
        "durbin_watson_score = None\n",
        "\n",
        "### BEGIN SOLUTION\n",
        "# your code here\n",
        "from statsmodels.stats.stattools import durbin_watson\n",
        "durbin_watson_score = durbin_watson(residuals)\n",
        "# raise NotImplementedError\n",
        "### END SOLUTION\n",
        "\n",
        "print(durbin_watson_score)"
      ]
    },
    {
      "cell_type": "code",
      "execution_count": 11,
      "metadata": {
        "id": "k4P-NXEUfmtN"
      },
      "outputs": [],
      "source": [
        "assert durbin_watson_score is not None\n",
        "assert durbin_watson_score >= 1.5"
      ]
    },
    {
      "cell_type": "markdown",
      "metadata": {
        "id": "G3jPbDgq_I-a"
      },
      "source": [
        "### Exercise 1.4: Check for Normality of residuals\n",
        "\n",
        "**<div style=\"text-align: right\"> [POINTS: 1]</div>**\n",
        "\n",
        "**Task:**\n",
        "\n",
        "* Import the [`normal_ad`]() from `statsmodels` library.\n",
        "\n",
        "* Calculate the `p_value` of the residuals using the `normal_ad` function."
      ]
    },
    {
      "cell_type": "code",
      "execution_count": 12,
      "metadata": {
        "colab": {
          "base_uri": "https://localhost:8080/"
        },
        "id": "ix2c67dQ_JuA",
        "outputId": "fcfad915-560b-4518-81ba-e742fc4ac22b"
      },
      "outputs": [
        {
          "output_type": "stream",
          "name": "stdout",
          "text": [
            "[0.85673401]\n"
          ]
        }
      ],
      "source": [
        "### Ex-1-Task-4\n",
        "\n",
        "p_value = None\n",
        "\n",
        "### BEGIN SOLUTION\n",
        "# your code here\n",
        "from statsmodels.stats.diagnostic import normal_ad\n",
        "p_value = normal_ad(residuals, axis=0)[1]\n",
        "# raise NotImplementedError\n",
        "### END SOLUTION\n",
        "\n",
        "print(p_value)"
      ]
    },
    {
      "cell_type": "code",
      "execution_count": 13,
      "metadata": {
        "id": "V522d0KM5LMC"
      },
      "outputs": [],
      "source": [
        "assert p_value is not None\n",
        "assert p_value >= 0.5\n"
      ]
    },
    {
      "cell_type": "code",
      "execution_count": 14,
      "metadata": {
        "colab": {
          "base_uri": "https://localhost:8080/",
          "height": 281
        },
        "id": "vWLbPiGQqcVq",
        "outputId": "bbb1db56-980f-4115-d202-a07bf656053a"
      },
      "outputs": [
        {
          "output_type": "display_data",
          "data": {
            "text/plain": [
              "<Figure size 432x288 with 1 Axes>"
            ],
            "image/png": "[encoded data removed]"
          },
          "metadata": {
            "needs_background": "light"
          }
        }
      ],
      "source": [
        "### RUN THIS CELL\n",
        "plt.title('Distribution of Residuals')\n",
        "plt.hist(residuals)\n",
        "plt.show()"
      ]
    },
    {
      "cell_type": "markdown",
      "metadata": {
        "id": "iRQ93L5QwXQv"
      },
      "source": [
        "## Train Test Split"
      ]
    },
    {
      "cell_type": "code",
      "execution_count": 15,
      "metadata": {
        "id": "SpFPYbbFxKAm"
      },
      "outputs": [],
      "source": [
        "X_train, X_test, y_train, y_test = train_test_split(X,y, test_size=0.3, random_state=42)"
      ]
    },
    {
      "cell_type": "markdown",
      "metadata": {
        "id": "7FZS7zOnxKAy"
      },
      "source": [
        "## Part 2: Implementation using Sklearn\n",
        "\n",
        "In this section, you will implement and validate linear regression using sklearn. You will use the easy and quick interface of sklearn to try out models with different combinations of the features and select the best combination of features using the Adjusted $R^2$ score. "
      ]
    },
    {
      "cell_type": "markdown",
      "metadata": {
        "id": "bed8MTVQxKAy"
      },
      "source": [
        "### Exercise 2.1: Adjusted $R^2$\n",
        "\n",
        "**<div style=\"text-align: right\"> [POINTS: 1]</div>**\n",
        "\n",
        "The sklearn library has a number of functions to calculate different performance metrics but it misses out on the adjusted $R^2$ score. So in this section you will implement the function `adjusted_r2_score` that computes adjusted $R^2$ score for a model.\n",
        "\n",
        "Recall: $$\\text{Adjusted}\\ {R^2} = 1- (1-R^2)\\frac{n-1}{n-d-1}$$\n",
        "\n",
        "\\\n",
        "\n",
        "**Tasks:** Complete the function `adjusted_r2_score` by computing the adjusted $R^2$ score.\n",
        "\n",
        "* Compute the $R^2$ score using the `r2_score` function from sklearn and store it in `r2`.\n",
        "\n",
        "* Compute the adjusted $R^2$ using the previously calculated $R2$ and store it in `adj_r2`. "
      ]
    },
    {
      "cell_type": "code",
      "execution_count": 17,
      "metadata": {
        "id": "BatxD37mxKAz"
      },
      "outputs": [],
      "source": [
        "### Ex-2-Task-1\n",
        "\n",
        "def adjusted_r2_score(y_test, y_pred):\n",
        "    n = X.shape[0]\n",
        "    d = X.shape[1]\n",
        "\n",
        "    r2 = None\n",
        "    adj_r2 = None\n",
        "\n",
        "    ### BEGIN SOLUTION\n",
        "    # your code here\n",
        "    r2 = r2_score(y_test, y_pred)\n",
        "    adj_r2 = 1 - ((1-r2) *(X.shape[0]-1) / (X.shape[0]- X.shape[1] - 1))\n",
        "    # raise NotImplementedError\n",
        "    ### END SOLUTION\n",
        "\n",
        "    return adj_r2"
      ]
    },
    {
      "cell_type": "code",
      "execution_count": 18,
      "metadata": {
        "id": "Ty4lY9leBYs_"
      },
      "outputs": [],
      "source": [
        "# Tests\n",
        "np.random.seed(42)\n",
        "y_test_test = np.random.randn(12,1)\n",
        "y_pred_test = y_test_test + 1\n",
        "\n",
        "assert (adjusted_r2_score(y_test_test,y_pred_test)) <= 0\n"
      ]
    },
    {
      "cell_type": "markdown",
      "metadata": {
        "id": "E_sv93VHxKA2"
      },
      "source": [
        "### Exercise 2.2: Linear Regression using sklearn\n",
        "\n",
        "<b><div style=\"text-align: right\">[POINTS: 2]</div></b>\n",
        "\n",
        "In this exercise, you will use the [`LinearRegression`]() class from sklearn to build a number of linear regression models. Each model will use a particular combination of the available features. You will calculate the adjusted $R^2$ score of each of these models and see which particular combination of the features is the best.\n",
        "\n",
        "\n",
        "**Tasks:** \n",
        "\n",
        "* Instantiate an object `linear_regression` of the `LinearRegression` class.\n",
        "\n",
        "* Fit the object `linear_regression` on the temporary training set `X_train_temp`.\n",
        "\n",
        "* Use the fitted `linear_regression` object to predict the output of the temporary test set `X_test_temp`. Store the predicted values in the variable `y_pred`.\n",
        "\n",
        "* Calculate the adjusted $R^2$ score for the model using the `adjusted_r2_score` you defined earlier and store it in `adj_r2`.\n"
      ]
    },
    {
      "cell_type": "code",
      "execution_count": 19,
      "metadata": {
        "colab": {
          "base_uri": "https://localhost:8080/"
        },
        "id": "nndNjbharMt7",
        "outputId": "db92255d-56d1-4768-a3f6-e5bff9cfa6eb"
      },
      "outputs": [
        {
          "output_type": "stream",
          "name": "stdout",
          "text": [
            "Different linear regression models and their adjusted r2 score\n",
            "[0]: 0.13597227419511837\n",
            "[1]: 0.28115541233078767\n",
            "[2]: 0.2633809572031648\n",
            "[3]: 0.21390197274217138\n",
            "[0, 1]: 0.4196704828783977\n",
            "[0, 2]: 0.47488637964989744\n",
            "[0, 3]: 0.3557706439289614\n",
            "[1, 2]: 0.6185596495462227\n",
            "[1, 3]: 0.5037594011669295\n",
            "[2, 3]: 0.4073443406712831\n",
            "[0, 1, 2]: 0.8404117424466044\n",
            "[0, 1, 3]: 0.639217851526068\n",
            "[0, 2, 3]: 0.6165822910055553\n",
            "[1, 2, 3]: 0.7555098315924497\n",
            "[0, 1, 2, 3]: 0.9744322614168767\n",
            "Best model: [0, 1, 2, 3] Parameters: [[50.25299626  7.25576172  9.57649649 10.0929504  -6.006947  ]]\n"
          ]
        }
      ],
      "source": [
        "### Ex-2-Task-2\n",
        "\n",
        "# Creating random combinations of the features\n",
        "features_combinations = []\n",
        "for L in range(1, X.shape[1]+1):\n",
        "    for subset in itertools.combinations(range(X.shape[1]), L):\n",
        "        features_combinations.append(list(subset))\n",
        "\n",
        "models = dict() # dictionary to store the parameters of different models\n",
        "models_r2 = dict() # dictionary to store the different model's adjusted r2 score \n",
        "\n",
        "for features in features_combinations:\n",
        "    X_train_temp = X_train[:, features]\n",
        "    X_test_temp = X_test[:, features]\n",
        "    \n",
        "    linear_regression = None\n",
        "    y_pred = None\n",
        "    adj_r2 = None\n",
        "\n",
        "    ### BEGIN SOLUTION\n",
        "    # your code here\n",
        "    linear_regression = LinearRegression().fit(X_train_temp, y_train)\n",
        "    y_pred = linear_regression.predict(X_test_temp)\n",
        "    adj_r2 = adjusted_r2_score(y_test, y_pred)\n",
        "    # raise NotImplementedError\n",
        "    ### END SOLUTION\n",
        "\n",
        "    models[str(features)] = np.c_[linear_regression.intercept_, linear_regression.coef_]  \n",
        "    models_r2[str(features)] = adj_r2\n",
        "\n",
        "print(\"Different linear regression models and their adjusted r2 score\")\n",
        "for key in models_r2.keys():\n",
        "  print(\"{}: {}\".format(key, models_r2[key]))\n",
        "best = max(models_r2, key=models_r2.get)\n",
        "print(\"Best model: {} Parameters: {}\".format(best, models[best])) "
      ]
    },
    {
      "cell_type": "code",
      "execution_count": 20,
      "metadata": {
        "id": "kjerfk4mKPe-"
      },
      "outputs": [],
      "source": [
        "assert adj_r2 is not None\n",
        "assert round(adj_r2, 2) == 0.97\n",
        "\n"
      ]
    },
    {
      "cell_type": "markdown",
      "metadata": {
        "id": "fGNKpeH0yCCv"
      },
      "source": [
        "### Exercise 2.3: Ridge Regression using sklearn\n",
        "\n",
        "<b><div style=\"text-align: right\">[POINTS: 2]</div></b>\n",
        "\n",
        "In this exercise, you will use the [`Ridge`]() class from sklearn to build a ridge regression model. You will use all 4 features as you have seen that they result in the best adjusted $R^2$.\n",
        "\n",
        "**Tasks:** \n",
        "\n",
        "* Import the  `Ridge` class from sklearn and instantiate the class as `ridge_regression`.\n",
        "\n",
        "* Fit the object `rige_regression` on the  training set `X_train`.\n",
        "\n",
        "* Use the fitted `rige_regression` object to predict the output of the  test set `X_test`. Store the predicted values in the variable `y_pred`.\n",
        "\n",
        "* Calculate the $R^2$ score for the model using the [`r2_score`]() function from sklearn and store it in `r2`.\n",
        "\n"
      ]
    },
    {
      "cell_type": "code",
      "execution_count": 22,
      "metadata": {
        "colab": {
          "base_uri": "https://localhost:8080/"
        },
        "id": "kr64wmJyutUN",
        "outputId": "3ed93bd6-bf13-452e-b796-a220a0ee89c5"
      },
      "outputs": [
        {
          "output_type": "stream",
          "name": "stdout",
          "text": [
            "R2 score for Ridge Regression:  0.9746516523387053\n",
            "Parameters:  [[50.2498614   7.23318567  9.54305159 10.06760406 -5.98829548]]\n"
          ]
        }
      ],
      "source": [
        "### Ex-2-Task-3\n",
        "\n",
        "ridge_regression = None\n",
        "y_pred = None\n",
        "r2 = None\n",
        "\n",
        "### BEGIN SOLUTION\n",
        "# your code here\n",
        "from sklearn.linear_model import Ridge\n",
        "ridge_regression = Ridge().fit(X_train, y_train)\n",
        "y_pred = ridge_regression.predict(X_test)\n",
        "r2 = r2_score(y_test, y_pred)\n",
        "# raise NotImplementedError\n",
        "### END SOLUTION\n",
        "\n",
        "print(\"R2 score for Ridge Regression: \",r2)\n",
        "print(\"Parameters: \", np.c_[ridge_regression.intercept_, ridge_regression.coef_])"
      ]
    },
    {
      "cell_type": "code",
      "execution_count": 23,
      "metadata": {
        "id": "SmKOa4CmLaiN"
      },
      "outputs": [],
      "source": [
        "assert round(r2, 2) == 0.97\n",
        "assert hasattr(ridge_regression, 'intercept_')\n"
      ]
    },
    {
      "cell_type": "markdown",
      "metadata": {
        "id": "9lJ7KCvA6Aw1"
      },
      "source": [
        "### Exercise 2.4: LASSO Regression using sklearn\n",
        "\n",
        "<b><div style=\"text-align: right\">[POINTS: 2]</div></b>\n",
        "\n",
        "In this exercise, you will use the [`Lasso`]() class from sklearn to build a lasso regression model. You will use all 4 features as you have seen that they result in the best adjusted $R^2$.\n",
        "\n",
        "**Tasks:** \n",
        "\n",
        "* Import the  `Lasso` class from sklearn and instantiate the class as `lasso_regression`\n",
        "\n",
        "* Fit the object `lasso_regression` on the temporary training set `X_train_temp`.\n",
        "\n",
        "* Use the fitted `lasso_regression` object to predict the output of the temporary test set `X_test_temp`. Store the predicted values in the variable `y_pred`.\n",
        "\n",
        "* Calculate the $R^2$ score for the model using the [`r2_score`]() function from sklearn and store it in `r2`.\n",
        "\n"
      ]
    },
    {
      "cell_type": "code",
      "execution_count": 26,
      "metadata": {
        "id": "OPMOGp05vnNW",
        "colab": {
          "base_uri": "https://localhost:8080/"
        },
        "outputId": "59039b64-b95a-4a57-aba5-54661ac502dc"
      },
      "outputs": [
        {
          "output_type": "stream",
          "name": "stdout",
          "text": [
            "R2 score for Lasso Regression:  0.9593772902521192\n",
            "Parameters:  [50.11608472  6.20152152  8.29754509  9.21974979 -4.94071203]\n"
          ]
        }
      ],
      "source": [
        "### Ex-2-Task-4\n",
        "\n",
        "lasso_regression = None\n",
        "y_pred = None\n",
        "r2 = None\n",
        "\n",
        "### BEGIN SOLUTION\n",
        "# your code here\n",
        "from sklearn.linear_model import Lasso\n",
        "lasso_regression = Lasso().fit(X_train_temp, y_train)\n",
        "y_pred = lasso_regression.predict(X_test_temp)\n",
        "r2 = r2_score(y_test, y_pred)\n",
        "# raise NotImplementedError \n",
        "### END SOLUTION\n",
        "\n",
        "print(\"R2 score for Lasso Regression: \",r2)\n",
        "print(\"Parameters: \", np.r_[lasso_regression.intercept_, lasso_regression.coef_])\n",
        "# lasso.coef_\n",
        "# np.r_[lasso.intercept_, lasso.coef_]"
      ]
    },
    {
      "cell_type": "code",
      "execution_count": 27,
      "metadata": {
        "id": "EznfAsFINxae"
      },
      "outputs": [],
      "source": [
        "assert round(r2, 2) == 0.96\n",
        "assert hasattr(lasso_regression, 'intercept_')\n"
      ]
    },
    {
      "cell_type": "markdown",
      "metadata": {
        "id": "iiSf0Wdm7Lqj"
      },
      "source": [
        "## Part 3: Implementation from Scratch\n",
        "\n",
        "In this section, you will implement the OLS and Gradient descent algorithm from scratch to learn the parameters of the linear regression model. But first let's add the column of ones for intercept in the training and test set."
      ]
    },
    {
      "cell_type": "code",
      "execution_count": 28,
      "metadata": {
        "id": "1vAtvcmC-oGg"
      },
      "outputs": [],
      "source": [
        "### RUN THIS CELL\n",
        "X_train = np.c_[np.ones((X_train.shape[0], 1)), X_train]\n",
        "X_test = np.c_[np.ones((X_test.shape[0], 1)), X_test]"
      ]
    },
    {
      "cell_type": "markdown",
      "metadata": {
        "id": "kN9ekI1lrA5b"
      },
      "source": [
        "### Exercise 3.1: Linear Regression using OLS\n",
        "\n",
        "**<div style=\"text-align: right\"> [POINTS: 1]</div>**\n",
        "\n",
        "In this exercise, you will implement the normal equation of OLS to find the parameters of Linear regression.\n",
        "\n",
        "Recall: $$\\boldsymbol{\\beta} =(\\mathbf{X}^T\\mathbf{X})^{-1} \\mathbf{X}^T\\mathbf{y}$$\n",
        "\n",
        "\\\\\n",
        "\n",
        "**Task:**\n",
        "\n",
        "* Complete the function `normal_equation` by implementing the normal equation to find the parameters `betas`."
      ]
    },
    {
      "cell_type": "code",
      "execution_count": 29,
      "metadata": {
        "id": "rpSF1M03sV5N",
        "colab": {
          "base_uri": "https://localhost:8080/"
        },
        "outputId": "50b1e20b-89d3-473f-c734-84626ebc656e"
      },
      "outputs": [
        {
          "output_type": "stream",
          "name": "stdout",
          "text": [
            "Parameters:  [[50.25299626  7.25576172  9.57649649 10.0929504  -6.006947  ]]\n"
          ]
        }
      ],
      "source": [
        "### Ex-3-Task-1\n",
        "def normal_equation(X,y):\n",
        "\n",
        "    betas = None\n",
        "    ### BEGIN SOLUTION\n",
        "    # your code here\n",
        "    betas = np.dot(np.linalg.inv(np.dot(X.T, X)), np.dot(X.T, y))\n",
        "    # raise NotImplementedError\n",
        "    ### END SOLUTION\n",
        "\n",
        "    return betas\n",
        "\n",
        "model_OLS = normal_equation(X_train,y_train)\n",
        "print(\"Parameters: \", model_OLS.reshape(1,-1))"
      ]
    },
    {
      "cell_type": "code",
      "execution_count": 30,
      "metadata": {
        "id": "-bhOOQAqUTKL"
      },
      "outputs": [],
      "source": [
        "assert max(model_OLS) >=50"
      ]
    },
    {
      "cell_type": "markdown",
      "metadata": {
        "id": "uWdzcJSJmlXG"
      },
      "source": [
        "### Exercise 3.2: Linear Regression using Gradient Descent\n",
        "**<div style=\"text-align: right\"> [POINTS: 3]</div>**\n",
        "\n",
        "In this exercise, you will mplement the gradient descent algorithm to find the parameters of linear regression.\n",
        "\n",
        "**Tasks:** Complete the following function to implement the gradient descent algorithm.\n",
        "\n",
        "* Initialize `betas` randomly from values sampled from normal distribution\n",
        "\n",
        "* Calculate the `gradients` for the `betas`. $[\\frac{\\boldsymbol{\\partial J}}{\\boldsymbol{\\partial \\beta}}= \\mathbf{X^T}(\\mathbf{\\hat{y}-y})]$ \n",
        "\n",
        "* Update the `betas` using their `gradients`.$[\\boldsymbol{\\beta} := \\boldsymbol{\\beta} - \\alpha \\boldsymbol{\\frac{\\partial J}{\\partial \\beta}}]$\n",
        "\n",
        "* Calculate the cost for the `betas` using the Linear Regression's cost function. $[J(\\boldsymbol{\\beta}) = \\frac{1}{2}\\ \\sum(\\mathbf{X}\\boldsymbol{\\beta} - \\mathbf{y})^2]$\n",
        "\n"
      ]
    },
    {
      "cell_type": "code",
      "execution_count": 31,
      "metadata": {
        "id": "CX5--5EQedbV",
        "colab": {
          "base_uri": "https://localhost:8080/"
        },
        "outputId": "6e37c9a5-7768-4921-f512-5c86045ef3af"
      },
      "outputs": [
        {
          "output_type": "stream",
          "name": "stdout",
          "text": [
            "Parameters:  [[50.25119387  7.2551767   9.57419738 10.09292409 -6.00535143]]\n"
          ]
        }
      ],
      "source": [
        "### Ex-3-Task-2\n",
        "def gradient_descent(X, y, alpha=0.0001 , max_iters=10000, precision = 1e-3):\n",
        "    np.random.seed(0)\n",
        "    n = X.shape[0]\n",
        "    d = X.shape[1]\n",
        "\n",
        "    iteration = 0 # no. of iterations\n",
        "    difference = 1 # difference between the cost of current iteration and previous iteration\n",
        "    costs = [1e12] # list containing the history of costs for different iterations \n",
        "\n",
        "    betas = None\n",
        "    gradients = None\n",
        "    cost = None\n",
        "\n",
        "    # Initialize betas\n",
        "    \n",
        "    betas = np.random.randn(d,1)\n",
        "   \n",
        "\n",
        "    while difference > precision and iteration <= max_iters :\n",
        "\n",
        "        # Calculate gradients\n",
        "        \n",
        "        # Update betas\n",
        "        \n",
        "         # Calculate cost\n",
        "        \n",
        "        ### BEGIN SOLUTION\n",
        "        # your code here\n",
        "        gradients = np.dot(X.T, (np.dot(X, betas) - y))\n",
        "        betas -= alpha * gradients\n",
        "        cost = (1/2) * np.sum((np.dot(X, betas) - y) ** 2)\n",
        "        # raise NotImplementedError\n",
        "        ### END SOLUTION\n",
        "\n",
        "        difference = np.abs(costs[iteration] - cost) \n",
        "        costs.append(cost)\n",
        "\n",
        "        iteration += 1\n",
        "\n",
        "        if(cost == np.infty):\n",
        "            print(\"Cost reached infinity, try smaller learning rate\")\n",
        "            break\n",
        "\n",
        "    return betas, iteration, costs\n",
        "\n",
        "model_GD, steps, costs = gradient_descent(X_train, y_train, alpha=0.0007)\n",
        "print(\"Parameters: \", model_GD.reshape(1,-1))"
      ]
    },
    {
      "cell_type": "code",
      "execution_count": 32,
      "metadata": {
        "id": "3PWr7HG7a7iy"
      },
      "outputs": [],
      "source": [
        "assert steps >=41\n",
        "assert min(costs) < 1150"
      ]
    },
    {
      "cell_type": "markdown",
      "metadata": {
        "id": "EZlgJ4YU36xP"
      },
      "source": [
        "## Well done!"
      ]
    },
    {
      "cell_type": "code",
      "execution_count": null,
      "metadata": {
        "id": "v9NLgoN1jm5s"
      },
      "outputs": [],
      "source": [
        ""
      ]
    }
  ],
  "metadata": {
    "colab": {
      "collapsed_sections": [],
      "name": "RegularizationAssignment_Student.ipynb",
      "provenance": [],
      "include_colab_link": true
    },
    "kernelspec": {
      "display_name": "Python 3 (ipykernel)",
      "language": "python",
      "name": "python3"
    },
    "language_info": {
      "codemirror_mode": {
        "name": "ipython",
        "version": 3
      },
      "file_extension": ".py",
      "mimetype": "text/x-python",
      "name": "python",
      "nbconvert_exporter": "python",
      "pygments_lexer": "ipython3",
      "version": "3.7.3"
    }
  },
  "nbformat": 4,
  "nbformat_minor": 0
}